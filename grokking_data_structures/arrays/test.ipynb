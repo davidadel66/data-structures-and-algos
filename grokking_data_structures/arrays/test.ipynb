{
 "cells": [
  {
   "cell_type": "code",
   "execution_count": 1,
   "id": "1cdf694f",
   "metadata": {},
   "outputs": [],
   "source": [
    "from unsorted_arrays import UnsortedArray"
   ]
  },
  {
   "cell_type": "code",
   "execution_count": 8,
   "id": "4ae7a4fd",
   "metadata": {},
   "outputs": [],
   "source": [
    "sample = UnsortedArray(max_size=5)\n",
    "\n",
    "sample.insert(0, 2)"
   ]
  },
  {
   "cell_type": "code",
   "execution_count": 18,
   "id": "22f3c1a6",
   "metadata": {},
   "outputs": [
    {
     "ename": "ValueError",
     "evalue": "The array is already full",
     "output_type": "error",
     "traceback": [
      "\u001b[31m---------------------------------------------------------------------------\u001b[39m",
      "\u001b[31mValueError\u001b[39m                                Traceback (most recent call last)",
      "\u001b[36mCell\u001b[39m\u001b[36m \u001b[39m\u001b[32mIn[18]\u001b[39m\u001b[32m, line 1\u001b[39m\n\u001b[32m----> \u001b[39m\u001b[32m1\u001b[39m \u001b[43msample\u001b[49m\u001b[43m.\u001b[49m\u001b[43minsert\u001b[49m\u001b[43m(\u001b[49m\u001b[32;43m1\u001b[39;49m\u001b[43m,\u001b[49m\u001b[43m \u001b[49m\u001b[32;43m2\u001b[39;49m\u001b[43m)\u001b[49m\n",
      "\u001b[36mFile \u001b[39m\u001b[32m~/code/data-structures-and-algos/grokking_data_structures/arrays/unsorted_arrays.py:29\u001b[39m, in \u001b[36mUnsortedArray.insert\u001b[39m\u001b[34m(self, index, val)\u001b[39m\n\u001b[32m     27\u001b[39m \u001b[38;5;28;01mdef\u001b[39;00m\u001b[38;5;250m \u001b[39m\u001b[34minsert\u001b[39m(\u001b[38;5;28mself\u001b[39m, index: \u001b[38;5;28mint\u001b[39m, val: \u001b[38;5;28mint\u001b[39m) -> \u001b[38;5;28;01mNone\u001b[39;00m:\n\u001b[32m     28\u001b[39m     \u001b[38;5;28;01mif\u001b[39;00m \u001b[38;5;28mself\u001b[39m._size >= \u001b[38;5;28mlen\u001b[39m(\u001b[38;5;28mself\u001b[39m._array):\n\u001b[32m---> \u001b[39m\u001b[32m29\u001b[39m         \u001b[38;5;28;01mraise\u001b[39;00m \u001b[38;5;167;01mValueError\u001b[39;00m(\u001b[33m'\u001b[39m\u001b[33mThe array is already full\u001b[39m\u001b[33m'\u001b[39m)\n\u001b[32m     30\u001b[39m     \u001b[38;5;28mself\u001b[39m._array[index] = val\n\u001b[32m     31\u001b[39m     \u001b[38;5;28mself\u001b[39m._size += \u001b[32m1\u001b[39m\n",
      "\u001b[31mValueError\u001b[39m: The array is already full"
     ]
    }
   ],
   "source": [
    "sample.insert(1, 2)"
   ]
  },
  {
   "cell_type": "code",
   "execution_count": 19,
   "id": "35b6ba4f",
   "metadata": {},
   "outputs": [
    {
     "data": {
      "text/plain": [
       "UnsortedArray(array('l', [2, 2, 0, 0, 0]))"
      ]
     },
     "execution_count": 19,
     "metadata": {},
     "output_type": "execute_result"
    }
   ],
   "source": [
    "sample"
   ]
  },
  {
   "cell_type": "code",
   "execution_count": null,
   "id": "d09d5fde",
   "metadata": {},
   "outputs": [],
   "source": []
  }
 ],
 "metadata": {
  "kernelspec": {
   "display_name": ".venv",
   "language": "python",
   "name": "python3"
  },
  "language_info": {
   "codemirror_mode": {
    "name": "ipython",
    "version": 3
   },
   "file_extension": ".py",
   "mimetype": "text/x-python",
   "name": "python",
   "nbconvert_exporter": "python",
   "pygments_lexer": "ipython3",
   "version": "3.13.3"
  }
 },
 "nbformat": 4,
 "nbformat_minor": 5
}
