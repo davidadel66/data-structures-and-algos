{
 "cells": [
  {
   "cell_type": "code",
   "execution_count": 1,
   "id": "1cdf694f",
   "metadata": {},
   "outputs": [],
   "source": [
    "from unsorted_arrays import UnsortedArray"
   ]
  },
  {
   "cell_type": "code",
   "execution_count": 6,
   "id": "4ae7a4fd",
   "metadata": {},
   "outputs": [
    {
     "name": "stdout",
     "output_type": "stream",
     "text": [
      "1\n",
      "2\n",
      "3\n",
      "4\n",
      "5\n"
     ]
    }
   ],
   "source": [
    "test = [1, 2, 3, 4, 5]\n",
    "\n",
    "def testyield(n):\n",
    "    for i in range(n):\n",
    "        yield test[i]\n",
    "\n",
    "iter_5 = testyield(5)\n",
    "for i in range(5):\n",
    "    print(next(iter_5))"
   ]
  },
  {
   "cell_type": "code",
   "execution_count": 12,
   "id": "35b6ba4f",
   "metadata": {},
   "outputs": [],
   "source": [
    "list = [2,4,6,8]\n",
    "list.insert(5,0)"
   ]
  },
  {
   "cell_type": "code",
   "execution_count": 13,
   "id": "d09d5fde",
   "metadata": {},
   "outputs": [
    {
     "data": {
      "text/plain": [
       "[2, 4, 6, 8, 0]"
      ]
     },
     "execution_count": 13,
     "metadata": {},
     "output_type": "execute_result"
    }
   ],
   "source": [
    "list\n"
   ]
  },
  {
   "cell_type": "code",
   "execution_count": null,
   "id": "41b58cae",
   "metadata": {},
   "outputs": [],
   "source": []
  }
 ],
 "metadata": {
  "kernelspec": {
   "display_name": ".venv",
   "language": "python",
   "name": "python3"
  },
  "language_info": {
   "codemirror_mode": {
    "name": "ipython",
    "version": 3
   },
   "file_extension": ".py",
   "mimetype": "text/x-python",
   "name": "python",
   "nbconvert_exporter": "python",
   "pygments_lexer": "ipython3",
   "version": "3.13.3"
  }
 },
 "nbformat": 4,
 "nbformat_minor": 5
}
